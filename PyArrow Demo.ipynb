{
 "cells": [
  {
   "cell_type": "markdown",
   "id": "554cb1d2-7ec4-4366-aa4f-d419561726aa",
   "metadata": {
    "tags": []
   },
   "source": [
    "# A short demo of PyArrow & Neo4j 😀\n",
    "<img src=\"https://arrow.apache.org/docs/_static/arrow.png\" style=\"width:200px;\">"
   ]
  },
  {
   "cell_type": "markdown",
   "id": "d2d28e4b-393e-4b1a-be03-cf2cb12aab38",
   "metadata": {
    "tags": []
   },
   "source": [
    "## Our Dependencies\n",
    "Nothing special really...the usual cast of characters with the addition of `pyarrow`"
   ]
  },
  {
   "cell_type": "code",
   "execution_count": 1,
   "id": "fb9ebdae-bdeb-4c6c-81af-a8f3526bebde",
   "metadata": {},
   "outputs": [
    {
     "name": "stdout",
     "output_type": "stream",
     "text": [
      "Requirement already satisfied: pyarrow in ./venv/lib/python3.9/site-packages (5.0.0)\n",
      "Requirement already satisfied: pandas in ./venv/lib/python3.9/site-packages (1.3.2)\n",
      "Requirement already satisfied: scikit-learn in ./venv/lib/python3.9/site-packages (0.24.2)\n",
      "Requirement already satisfied: matplotlib in ./venv/lib/python3.9/site-packages (3.4.3)\n",
      "Requirement already satisfied: seaborn in ./venv/lib/python3.9/site-packages (0.11.2)\n",
      "Requirement already satisfied: numpy>=1.16.6 in ./venv/lib/python3.9/site-packages (from pyarrow) (1.21.2)\n",
      "Requirement already satisfied: python-dateutil>=2.7.3 in ./venv/lib/python3.9/site-packages (from pandas) (2.8.2)\n",
      "Requirement already satisfied: pytz>=2017.3 in ./venv/lib/python3.9/site-packages (from pandas) (2021.1)\n",
      "Requirement already satisfied: scipy>=0.19.1 in ./venv/lib/python3.9/site-packages (from scikit-learn) (1.7.1)\n",
      "Requirement already satisfied: threadpoolctl>=2.0.0 in ./venv/lib/python3.9/site-packages (from scikit-learn) (2.2.0)\n",
      "Requirement already satisfied: joblib>=0.11 in ./venv/lib/python3.9/site-packages (from scikit-learn) (1.0.1)\n",
      "Requirement already satisfied: pyparsing>=2.2.1 in ./venv/lib/python3.9/site-packages (from matplotlib) (2.4.7)\n",
      "Requirement already satisfied: pillow>=6.2.0 in ./venv/lib/python3.9/site-packages (from matplotlib) (8.3.1)\n",
      "Requirement already satisfied: kiwisolver>=1.0.1 in ./venv/lib/python3.9/site-packages (from matplotlib) (1.3.1)\n",
      "Requirement already satisfied: cycler>=0.10 in ./venv/lib/python3.9/site-packages (from matplotlib) (0.10.0)\n",
      "Requirement already satisfied: six in ./venv/lib/python3.9/site-packages (from cycler>=0.10->matplotlib) (1.16.0)\n",
      "Note: you may need to restart the kernel to use updated packages.\n"
     ]
    }
   ],
   "source": [
    "%pip install pyarrow pandas scikit-learn matplotlib seaborn\n",
    "%matplotlib inline"
   ]
  },
  {
   "cell_type": "markdown",
   "id": "3c065e17-800e-4367-87da-26bedb5a98ad",
   "metadata": {},
   "source": [
    "### Imports and our Integration\n",
    "We'll set up our imports next.\n",
    "\n",
    "One special import is [neo4j_arrow](https://gist.github.com/voutilad/ac1107a383affcdfdaaf4a08d1f14df4), the client wrapper to simplify talking to the server-side `Neo4j-Arrow` service. It's like 100 lines of Python and uses the `PyArrow` framework...no Neo4j code!\n",
    "\n",
    "> Server-side it exists as a database plugin. If you have access, the code is here: https://github.com/neo4j-field/neo4j-arrow"
   ]
  },
  {
   "cell_type": "code",
   "execution_count": 2,
   "id": "e8e05d4d-3546-4411-8c96-3760f2691c35",
   "metadata": {},
   "outputs": [],
   "source": [
    "# Get our DS imports ready!\n",
    "from sklearn.decomposition import PCA\n",
    "import matplotlib.pyplot as plt\n",
    "import numpy as np\n",
    "import pandas as pd\n",
    "import seaborn as sns\n",
    "\n",
    "# To time stuff...\n",
    "import time\n",
    "\n",
    "# And our neo4j integration!\n",
    "import neo4j_arrow"
   ]
  },
  {
   "cell_type": "markdown",
   "id": "9a67d78e-3673-4e75-b13a-5e7dd8bbe59c",
   "metadata": {},
   "source": [
    "---"
   ]
  },
  {
   "cell_type": "markdown",
   "id": "792f48f2-6daa-483a-a9e0-6a0a75401937",
   "metadata": {},
   "source": [
    "## Connecting our Neo4jArrow Client\n",
    "Very simple. We provide access credentials (username, password) and then provide the location of the server in a tuple of `(host, port)`.\n",
    "\n",
    "`Neo4jArrow` uses Neo4j's built-in authorization framework. All our calls to the server are authenticated like any other Neo4j client."
   ]
  },
  {
   "cell_type": "code",
   "execution_count": 3,
   "id": "66cdbeb9-4538-4cce-b1c5-c3c36657d707",
   "metadata": {},
   "outputs": [],
   "source": [
    "client = neo4j_arrow.Neo4jArrow('neo4j', 'password', ('voutila-arrow-test', 9999))"
   ]
  },
  {
   "cell_type": "markdown",
   "id": "5ed1a097-bcda-48d5-b9c5-d335547f4c21",
   "metadata": {},
   "source": [
    "### Discovering Available Actions\n",
    "Arrow Flight uses an RPC concept. In short, clients can perform _Actions_ sending optional payload data to the server with each action. Clients can also consume or put _streams_ to/from the server.\n",
    "\n",
    "Let's discover our available actions!"
   ]
  },
  {
   "cell_type": "code",
   "execution_count": 4,
   "id": "690f6956-cefd-48de-9f4a-9054bd7c8de0",
   "metadata": {},
   "outputs": [
    {
     "name": "stdout",
     "output_type": "stream",
     "text": [
      "ActionType(type='cypherRead', description='Submit a new Cypher-based read job')\n",
      "ActionType(type='cypherWrite', description='Submit a new Cypher-based write job')\n",
      "ActionType(type='jobStatus', description='Check the status of a Job')\n",
      "ActionType(type='gdsNodeProperties', description='Stream node properties from a GDS Graph')\n",
      "ActionType(type='gdsRelProperties', description='Stream relationship properties from a GDS Graph')\n"
     ]
    }
   ],
   "source": [
    "actions = client.list_actions()\n",
    "\n",
    "for action in actions:\n",
    "  print(action)"
   ]
  },
  {
   "cell_type": "markdown",
   "id": "310655e0-183b-4c4a-8f7c-337c0674f50a",
   "metadata": {},
   "source": [
    "Each of these actions can be called by an Apache Arrow client, regardless if it's PyArrow or the Arrow R package or Arrow for Rust!\n",
    "\n",
    "---"
   ]
  },
  {
   "cell_type": "markdown",
   "id": "fcd02f44-5b8a-4412-bbfd-c141d7dc0c1c",
   "metadata": {},
   "source": [
    "## Working with Cypher Jobs\n",
    "The way I've architected `Neo4jArrow` is designed around submitting \"jobs\" that construct streams. Let's submit some Cypher!"
   ]
  },
  {
   "cell_type": "code",
   "execution_count": 5,
   "id": "edd9984f-8c78-4e06-ac85-93c9af6e4c43",
   "metadata": {},
   "outputs": [
    {
     "name": "stdout",
     "output_type": "stream",
     "text": [
      "Submitting cypher with params:\n",
      "\n",
      "  UNWIND range(1, $i) AS n\n",
      "  RETURN n, [_ IN range(1, $j) | rand()] AS embedding\n",
      "\n",
      "{'i': 1000000, 'j': 128}\n",
      "<Ticket b'c89a704a-58eb-4c16-b002-ee86cdfda4d2'>\n"
     ]
    }
   ],
   "source": [
    "cypher = \"\"\"\n",
    "  UNWIND range(1, $i) AS n\n",
    "  RETURN n, [_ IN range(1, $j) | rand()] AS embedding\n",
    "\"\"\"\n",
    "params = {\n",
    "    \"i\": 1_000_000,\n",
    "    \"j\": 128\n",
    "}\n",
    "\n",
    "print(f\"Submitting cypher with params:\\n{cypher}\\n{params}\")\n",
    "\n",
    "ticket = client.cypher(cypher, params=params)\n",
    "print(ticket)"
   ]
  },
  {
   "cell_type": "markdown",
   "id": "6a53c775-8800-4bb7-8545-aa9e467ee57b",
   "metadata": {},
   "source": [
    "### Waiting for our Results\n",
    "Each job results in a _ticket_. Clients use the ticket to check on job status or request a stream of the rsults.\n",
    "\n",
    "Let's wait until our Cypher is producing results and our stream is ready for consumption. This little helper function just polls the `jobStatus` _Action_ waiting for our job to be in a \"producing\" state."
   ]
  },
  {
   "cell_type": "code",
   "execution_count": 6,
   "id": "12c7f351-757d-480a-a5a8-e52d1a535b5f",
   "metadata": {},
   "outputs": [
    {
     "name": "stdout",
     "output_type": "stream",
     "text": [
      "Polling for status on ticket <Ticket b'c89a704a-58eb-4c16-b002-ee86cdfda4d2'>...\n",
      "...Stream is Ready!\n"
     ]
    }
   ],
   "source": [
    "print(f'Polling for status on ticket {ticket}...')\n",
    "ready = client.wait_for_job(ticket, timeout=5)\n",
    "if not ready:\n",
    "    raise Exception('something is wrong...did you submit a job?')\n",
    "else:\n",
    "    print('...Stream is Ready!')"
   ]
  },
  {
   "cell_type": "markdown",
   "id": "837317dd-49a9-4729-9c71-c02c88470cf2",
   "metadata": {},
   "source": [
    "### Consuming our Results\n",
    "Clients consume streams by presenting their ticket. They bet back a PyArrow stream reader and have some options to how they consume the stream:\n",
    "\n",
    "1. They can iterate over batches in the stream and process them incrementally.\n",
    "2. They can consume the entire stream into a PyArrow Table\n",
    "3. They can consume the entire stream immediately into a Pandas data frame"
   ]
  },
  {
   "cell_type": "code",
   "execution_count": 7,
   "id": "3ee233be-7e1d-46a7-ab38-26705f3c7900",
   "metadata": {},
   "outputs": [
    {
     "name": "stdout",
     "output_type": "stream",
     "text": [
      ">> Reading the result of our Cypher job into a dataframe. Please wait...\n",
      ">> Read our stream entirely into a PyArrow table in 11.7 seconds!\n",
      "pyarrow.Table\n",
      "embedding: list<embedding: double>\n",
      "  child 0, embedding: double\n",
      "n: int64\n",
      "How big is our data? It's about 7.63 MiB.\n"
     ]
    }
   ],
   "source": [
    "# Let's get a dataframe!\n",
    "print('>> Reading the result of our Cypher job into a dataframe. Please wait...')\n",
    "\n",
    "start = time.time()\n",
    "table = client.stream(ticket).read_all()\n",
    "delta = round(time.time() - start, 1)\n",
    "\n",
    "print(f'>> Read our stream entirely into a PyArrow table in {delta} seconds!')\n",
    "print(table)\n",
    "megs = table['embedding'].to_pandas().memory_usage() / (1024 * 1024)\n",
    "print(f\"How big is our data? It's about {round(megs, 2):,} MiB.\")"
   ]
  },
  {
   "cell_type": "markdown",
   "id": "377ce351-cf98-439d-8dc6-ee8627e34f4a",
   "metadata": {},
   "source": [
    "#### Let's Work with Pandas and Scikit-Learn!"
   ]
  },
  {
   "cell_type": "code",
   "execution_count": 8,
   "id": "15f24c6f-888f-49f4-a4ba-9484a45d7554",
   "metadata": {},
   "outputs": [
    {
     "name": "stdout",
     "output_type": "stream",
     "text": [
      "Before, our data looked like:\n",
      "pyarrow.Table\n",
      "embedding: list<embedding: double>\n",
      "  child 0, embedding: double\n",
      "n: int64\n",
      "Now we have a matrix like:\n",
      "[[ 0.08728453  0.1223428 ]\n",
      " [ 0.04351369 -0.05593023]\n",
      " [-0.04542323 -0.14810567]\n",
      " ...\n",
      " [-0.298385    0.18681565]\n",
      " [ 0.15782937 -0.12891416]\n",
      " [ 0.1579672  -0.15567771]]\n"
     ]
    }
   ],
   "source": [
    "# We'll convert our series of arrays into a NumPy matrix\n",
    "df = table.select(['embedding'])[0].to_pandas()\n",
    "m = np.matrix(df.tolist())\n",
    "\n",
    "# Then let's do dimensional reduction so we can plot our vectors\n",
    "pca = PCA(n_components=2)\n",
    "pc = pca.fit_transform(m)\n",
    "\n",
    "print('Before, our data looked like:')\n",
    "print(table)\n",
    "\n",
    "print('Now we have a matrix like:')\n",
    "print(pc)"
   ]
  },
  {
   "cell_type": "markdown",
   "id": "6e824705-52b2-45a6-9303-f59e2b0c488e",
   "metadata": {},
   "source": [
    "Let's plot!"
   ]
  },
  {
   "cell_type": "code",
   "execution_count": 9,
   "id": "e667e0e3-f11b-40aa-8fba-c1681278ebc9",
   "metadata": {},
   "outputs": [
    {
     "data": {
      "text/plain": [
       "<seaborn.axisgrid.FacetGrid at 0x7fc44cfe6550>"
      ]
     },
     "execution_count": 9,
     "metadata": {},
     "output_type": "execute_result"
    },
    {
     "data": {
      "image/png": "[encoded data removed]",
      "text/plain": [
       "<Figure size 360x360 with 1 Axes>"
      ]
     },
     "metadata": {
      "needs_background": "light"
     },
     "output_type": "display_data"
    }
   ],
   "source": [
    "pc_df = pd.DataFrame(data=pc, columns=['PC1', 'PC2'])\n",
    "sns.lmplot( x=\"PC1\", y=\"PC2\",\n",
    "  data=pc_df,\n",
    "  fit_reg=False)"
   ]
  },
  {
   "cell_type": "markdown",
   "id": "d24eb56b-60c7-4a50-a3ad-51a4e26f4a75",
   "metadata": {},
   "source": [
    "---"
   ]
  },
  {
   "cell_type": "markdown",
   "id": "445bf0cb-2c4c-4e49-ba98-725916b3f334",
   "metadata": {},
   "source": [
    "## Now for the fun stuff: Direct GDS Integration!\n",
    "We just played with Cypher, which is fine...but what about working with _even more data_ from things like GDS?\n",
    "\n",
    "Our traditional methods using the Python driver would absolutely choke here...but with PyArrow, I can stay in my comfy little Python world and still get data _fast_."
   ]
  },
  {
   "cell_type": "markdown",
   "id": "4bfb0e7b-84a7-42b3-a296-0d1b1248edd6",
   "metadata": {
    "tags": []
   },
   "source": [
    "### Submitting a GDS Job\n",
    "We'll submit a GDS job that reads directly from the in-memory graph. In this case, it's analagous to something like:\n",
    "\n",
    "```\n",
    "CALL gds.graph.streamNodeProperties('mygraph', ['n'])\n",
    "```\n",
    "\n",
    "Suppose we already have this graph populated via something like:\n",
    "\n",
    "```\n",
    "CALL gds.graph.create('mygraph', 'Node', { EDGE: { orientation: 'UNDIRECTED'} });\n",
    "CALL gds.fastRP.mutate('mygraph', {\n",
    "    embeddingDimension: 256,\n",
    "    mutateProperty: 'n'\n",
    "});\n",
    "```\n",
    "\n",
    "> Note that this follows the same general flow as before: submit job, get ticket, get stream"
   ]
  },
  {
   "cell_type": "code",
   "execution_count": 10,
   "id": "32c50f89-8ce9-4130-90f4-726164cc5f33",
   "metadata": {},
   "outputs": [
    {
     "name": "stdout",
     "output_type": "stream",
     "text": [
      "Reading the result of our GDS job into a dataframe.\n",
      "Please be patient...this takes a minute or two (quite literally)...\n",
      "Read our stream entirely into a dataframe in 77.3 seconds!\n",
      "          nodeId                                                  n\n",
      "0              0  [0.130765, 0.05128011, -0.075689286, -0.216142...\n",
      "1              1  [0.12185934, 0.04503689, 0.08228396, -0.180549...\n",
      "2              2  [0.11455238, -0.05738143, 0.12366827, -0.06347...\n",
      "3              3  [-0.042987622, 0.12796022, -0.06732363, 0.0147...\n",
      "4              4  [0.095874734, 0.08834075, -0.00030730665, -0.1...\n",
      "...          ...                                                ...\n",
      "9999995  9999995  [-0.17068014, -0.20275281, -0.02609725, 0.0159...\n",
      "9999996  9999996  [0.08360965, 0.007767517, 0.12981923, 0.180894...\n",
      "9999997  9999997  [-0.05578732, -0.033202175, -0.059255105, -0.0...\n",
      "9999998  9999998  [0.0, 0.0, 0.0, 0.0, 0.0, 0.0, 0.0, 0.0, 0.0, ...\n",
      "9999999  9999999  [0.0005706702, -0.123747975, 0.021083286, -0.1...\n",
      "\n",
      "[10000000 rows x 2 columns]\n",
      "Our dataframe has 10,000,000 vectors\n",
      "Memory usage looks like (in MiB):\n"
     ]
    },
    {
     "data": {
      "text/plain": [
       "Index        0.000122\n",
       "nodeId      76.293945\n",
       "n         1068.115234\n",
       "dtype: float64"
      ]
     },
     "execution_count": 10,
     "metadata": {},
     "output_type": "execute_result"
    }
   ],
   "source": [
    "# Time for something completely different...\n",
    "# Submit our GDS job to retrieve some node embeddings from a graph projection\n",
    "ticket = client.gds_nodes('mygraph', ['n'])\n",
    "client.wait_for_job(ticket, timeout=5)\n",
    "\n",
    "print('''Reading the result of our GDS job into a dataframe.\n",
    "Please be patient...this takes a minute or two (quite literally)...''')\n",
    "\n",
    "# Retrieve and consume the stream directly into a Pandas DataFrame (and time it)\n",
    "start = time.time()\n",
    "df = client.stream(ticket).read_pandas()\n",
    "delta = round(time.time() - start, 1)\n",
    "\n",
    "# Voila!\n",
    "print(f'Read our stream entirely into a dataframe in {delta} seconds!')\n",
    "print(df)\n",
    "print(f'Our dataframe has {len(df):,} vectors')\n",
    "print('Memory usage looks like (in MiB):')\n",
    "df.memory_usage(deep=True) / (1024 * 1024)"
   ]
  },
  {
   "cell_type": "code",
   "execution_count": null,
   "id": "3d4957e1-30ab-4eee-af8a-ccec81cd908c",
   "metadata": {},
   "outputs": [],
   "source": [
    "# Time for something completely different...\n",
    "ticket = client.gds_nodes('mygraph', ['n'])\n",
    "client.wait_for_job(ticket, timeout=5)\n",
    "\n",
    "print('''\n",
    "Reading the result of our GDS job directly into a Pandas dataframe.\n",
    "Please wait...this takes a minute or 2 (quite literally!)...\n",
    "''')\n",
    "\n",
    "start = time.time()\n",
    "df = client.stream(ticket).read_pandas()\n",
    "delta = round(time.time() - start, 1)\n",
    "\n",
    "print(f'Read our stream entirely into a dataframe in {delta} seconds!')\n",
    "print(df)\n",
    "print(f'Our dataframe has {len(df):,} vectors and is about {df[\"n\"].memory_usage(deep=True) / (1024 * 1024):,} MiB!')"
   ]
  },
  {
   "cell_type": "markdown",
   "id": "6a11a39a-9bd1-4ce9-b840-14840ad05d4e",
   "metadata": {},
   "source": [
    "Now we'll do our little data conversion and PCA..."
   ]
  },
  {
   "cell_type": "code",
   "execution_count": 11,
   "id": "6a3e522d-72c3-4fd2-acf7-429e0659e99c",
   "metadata": {},
   "outputs": [
    {
     "name": "stdout",
     "output_type": "stream",
     "text": [
      "Our new 3-dimensional vectors look like:\n",
      "[[ 0.18794921 -0.16087489  0.4958695 ]\n",
      " [ 0.35928982  0.39344963 -0.01773353]\n",
      " [ 0.65337169  0.15338067  0.7251118 ]\n",
      " ...\n",
      " [-0.19737952  0.15365793  0.46963622]\n",
      " [ 0.0545209   0.14824339 -0.28427196]\n",
      " [ 0.85537911  0.15831911  0.30382167]]\n"
     ]
    }
   ],
   "source": [
    "# Select out just our embedding vectors and convert it to a numpy matrix\n",
    "df = table.select(['embedding'])[0].to_pandas()\n",
    "m = np.matrix(df.tolist())\n",
    "\n",
    "# Then let's do dimensional reduction so we can plot our vectors in a lower dimension\n",
    "pca = PCA(n_components=3)\n",
    "pc = pca.fit_transform(m)\n",
    "print('Our new 3-dimensional vectors look like:')\n",
    "print(pc)"
   ]
  },
  {
   "cell_type": "markdown",
   "id": "993cd7fb-6434-4b94-bfac-3584ad366252",
   "metadata": {},
   "source": [
    "And plot!"
   ]
  },
  {
   "cell_type": "code",
   "execution_count": 12,
   "id": "45abd1d9-89c7-42d3-b307-bfb7714efc99",
   "metadata": {},
   "outputs": [
    {
     "data": {
      "image/png": "[encoded data removed]",
      "text/plain": [
       "<Figure size 432x288 with 1 Axes>"
      ]
     },
     "metadata": {
      "needs_background": "light"
     },
     "output_type": "display_data"
    }
   ],
   "source": [
    "pc_df = pd.DataFrame(data=pc, columns=['PC1', 'PC2', 'PC3'])\n",
    "fig = plt.figure()\n",
    "ax = fig.add_subplot(111, projection='3d')\n",
    "ax.scatter(pc_df['PC1'], pc_df['PC2'], pc_df['PC3'])\n",
    "plt.show()"
   ]
  },
  {
   "cell_type": "markdown",
   "id": "2d2daf4e-825e-428c-bee3-4eac17df246e",
   "metadata": {},
   "source": [
    "---\n",
    "\n",
    "## Towards the Future 🚀\n",
    "\n",
    "Other languages supported by Apache Arrow:\n",
    "* R\n",
    "* Matlab\n",
    "* Julia\n",
    "* and more!\n",
    "\n",
    "Some ponderings:\n",
    "* can we do better bulk updates/writes by moving data via Arrow to the server?\n",
    "* how about replicating an entire in-memory graph to another Neo4j system?\n",
    "* if we ditch the whole 2-step process (get ticket, get stream) how simple can our DX be?\n"
   ]
  },
  {
   "cell_type": "code",
   "execution_count": null,
   "id": "c09bf63c-8ecc-4a22-9c67-453bd8ad6153",
   "metadata": {},
   "outputs": [],
   "source": []
  }
 ],
 "metadata": {
  "kernelspec": {
   "display_name": "Python 3 (ipykernel)",
   "language": "python",
   "name": "python3"
  },
  "language_info": {
   "codemirror_mode": {
    "name": "ipython",
    "version": 3
   },
   "file_extension": ".py",
   "mimetype": "text/x-python",
   "name": "python",
   "nbconvert_exporter": "python",
   "pygments_lexer": "ipython3",
   "version": "3.9.5"
  }
 },
 "nbformat": 4,
 "nbformat_minor": 5
}
